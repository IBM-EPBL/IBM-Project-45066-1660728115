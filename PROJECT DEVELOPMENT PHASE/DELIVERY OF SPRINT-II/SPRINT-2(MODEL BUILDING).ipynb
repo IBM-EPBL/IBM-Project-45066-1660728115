{
 "cells": [
  {
   "cell_type": "markdown",
   "id": "4ocleUcP66f5",
   "metadata": {
    "id": "4ocleUcP66f5"
   },
   "source": [
    "# From Sprint 1"
   ]
  },
  {
   "cell_type": "code",
   "execution_count": 1,
   "id": "8e99c7de",
   "metadata": {
    "id": "8e99c7de"
   },
   "outputs": [],
   "source": [
    "import numpy as np\n",
    "import tensorflow #open source used for both ML and DL for computation\n",
    "from tensorflow.keras.datasets import mnist #mnist dataset\n",
    "from tensorflow.keras.models import Sequential #it is a plain stack of layers\n",
    "from tensorflow.keras import layers #A Layer consists of a tensor- in tensor-out computat ion funct ion\n",
    "from tensorflow.keras.layers import Dense, Flatten #Dense-Dense Layer is the regular deeply connected r\n",
    "#faltten -used fot flattening the input or change the dimension\n",
    "from tensorflow.keras.layers import Conv2D #onvoLutiona l Layer\n",
    "from keras.optimizers import Adam #opt imizer\n",
    "from keras. utils import np_utils #used for one-hot encoding\n",
    "import matplotlib.pyplot as plt   #used for data visualization"
   ]
  },
  {
   "cell_type": "code",
   "execution_count": 2,
   "id": "8e338d4d",
   "metadata": {
    "colab": {
     "base_uri": "https://localhost:8080/"
    },
    "id": "8e338d4d",
    "outputId": "7663d26e-fb26-40ac-fa12-5113bb724958"
   },
   "outputs": [
    {
     "name": "stdout",
     "output_type": "stream",
     "text": [
      "Downloading data from https://storage.googleapis.com/tensorflow/tf-keras-datasets/mnist.npz\n",
      "11490434/11490434 [==============================] - 0s 0us/step\n"
     ]
    }
   ],
   "source": [
    "(x_train, y_train), (x_test, y_test)=mnist.load_data() #splitting the mnist data\n",
    "\n",
    "#Reshaping to format which CNN expects (batch, height, width, channels)\n",
    "x_train=x_train.reshape (60000, 28, 28, 1).astype('float32')\n",
    "x_test=x_test.reshape (10000, 28, 28, 1).astype ('float32')\n",
    "\n",
    "#one hot encode\n",
    "number_of_classes = 10  #storing the no of classes in a variable\n",
    "y_train = np_utils.to_categorical (y_train, number_of_classes) #converts the output in binary format\n",
    "y_test = np_utils.to_categorical (y_test, number_of_classes)"
   ]
  },
  {
   "cell_type": "markdown",
   "id": "88006d15",
   "metadata": {
    "id": "88006d15"
   },
   "source": [
    "# Add CNN Layers"
   ]
  },
  {
   "cell_type": "code",
   "execution_count": 3,
   "id": "4423493c",
   "metadata": {
    "id": "4423493c"
   },
   "outputs": [],
   "source": [
    "#create model\n",
    "model=Sequential ()"
   ]
  },
  {
   "cell_type": "code",
   "execution_count": 4,
   "id": "f8a2be7f",
   "metadata": {
    "id": "f8a2be7f"
   },
   "outputs": [],
   "source": [
    "#adding model Layer\n",
    "model.add(Conv2D(64, (3, 3), input_shape=(28, 28, 1), activation='relu'))\n",
    "model.add(Conv2D(32, (3, 3), activation = 'relu'))\n",
    "#model.add(conv2D(32, (3,3), activation = 'relu))"
   ]
  },
  {
   "cell_type": "code",
   "execution_count": 5,
   "id": "311f8cb0",
   "metadata": {
    "id": "311f8cb0"
   },
   "outputs": [],
   "source": [
    "#flatten the dimension of the image\n",
    "model.add(Flatten())"
   ]
  },
  {
   "cell_type": "code",
   "execution_count": 6,
   "id": "d9566989",
   "metadata": {
    "id": "d9566989"
   },
   "outputs": [],
   "source": [
    "#output layer with 10 neurons\n",
    "model.add(Dense(number_of_classes,activation = 'softmax'))"
   ]
  },
  {
   "cell_type": "markdown",
   "id": "d52d8b17",
   "metadata": {
    "id": "d52d8b17"
   },
   "source": [
    "# Compiling the model"
   ]
  },
  {
   "cell_type": "code",
   "execution_count": 7,
   "id": "b532e03b",
   "metadata": {
    "id": "b532e03b"
   },
   "outputs": [],
   "source": [
    "#Compile model\n",
    "model.compile(loss= 'categorical_crossentropy', optimizer=\"Adam\", metrics=['accuracy'])"
   ]
  },
  {
   "cell_type": "markdown",
   "id": "a0d313ad",
   "metadata": {
    "id": "a0d313ad"
   },
   "source": [
    "# Train the model"
   ]
  },
  {
   "cell_type": "code",
   "execution_count": 8,
   "id": "de52342f",
   "metadata": {
    "colab": {
     "base_uri": "https://localhost:8080/"
    },
    "id": "de52342f",
    "outputId": "94a512ea-7893-4f2e-f4a5-b317675f2e77"
   },
   "outputs": [
    {
     "name": "stdout",
     "output_type": "stream",
     "text": [
      "Epoch 1/5\n",
      "1875/1875 [==============================] - 116s 61ms/step - loss: 0.2121 - accuracy: 0.9528 - val_loss: 0.0943 - val_accuracy: 0.9716\n",
      "Epoch 2/5\n",
      "1875/1875 [==============================] - 114s 61ms/step - loss: 0.0666 - accuracy: 0.9794 - val_loss: 0.0811 - val_accuracy: 0.9749\n",
      "Epoch 3/5\n",
      "1875/1875 [==============================] - 112s 60ms/step - loss: 0.0469 - accuracy: 0.9855 - val_loss: 0.1147 - val_accuracy: 0.9739\n",
      "Epoch 4/5\n",
      "1875/1875 [==============================] - 117s 63ms/step - loss: 0.0375 - accuracy: 0.9884 - val_loss: 0.1018 - val_accuracy: 0.9737\n",
      "Epoch 5/5\n",
      "1875/1875 [==============================] - 116s 62ms/step - loss: 0.0288 - accuracy: 0.9909 - val_loss: 0.0894 - val_accuracy: 0.9801\n"
     ]
    },
    {
     "data": {
      "text/plain": [
       "<keras.callbacks.History at 0x7fa301670310>"
      ]
     },
     "execution_count": 8,
     "metadata": {},
     "output_type": "execute_result"
    }
   ],
   "source": [
    "#fit the model\n",
    "model.fit(x_train, y_train, validation_data=(x_test, y_test), epochs=5, batch_size=32)"
   ]
  },
  {
   "cell_type": "markdown",
   "id": "27ba0285",
   "metadata": {
    "id": "27ba0285"
   },
   "source": [
    "# Observing the metrics"
   ]
  },
  {
   "cell_type": "code",
   "execution_count": 9,
   "id": "290f5219",
   "metadata": {
    "colab": {
     "base_uri": "https://localhost:8080/"
    },
    "id": "290f5219",
    "outputId": "5f693011-8b1a-410e-bc50-b2fef28e1364"
   },
   "outputs": [
    {
     "name": "stdout",
     "output_type": "stream",
     "text": [
      "Metrics (Test loss &Test Accuracy): \n",
      "[0.08937656134366989, 0.9800999760627747]\n"
     ]
    }
   ],
   "source": [
    "# Final evaluation of the model\n",
    "metrics = model.evaluate(x_test, y_test, verbose=0)\n",
    "print(\"Metrics (Test loss &Test Accuracy): \")\n",
    "print(metrics)"
   ]
  },
  {
   "cell_type": "markdown",
   "id": "4l03IdHk-Opn",
   "metadata": {
    "id": "4l03IdHk-Opn"
   },
   "source": [
    "# Test the Model"
   ]
  },
  {
   "cell_type": "code",
   "execution_count": 10,
   "id": "b3659ce9",
   "metadata": {
    "colab": {
     "base_uri": "https://localhost:8080/"
    },
    "id": "b3659ce9",
    "outputId": "78b3f042-000e-4d9e-e991-ea94cf4b0f70"
   },
   "outputs": [
    {
     "name": "stdout",
     "output_type": "stream",
     "text": [
      "1/1 [==============================] - 0s 103ms/step\n",
      "[[1.0722897e-06 1.7141589e-18 2.7211833e-08 5.5105747e-09 3.1974950e-15\n",
      "  6.2946589e-15 6.5320302e-18 9.9999893e-01 3.4854652e-10 5.1784710e-10]\n",
      " [1.4988335e-06 8.4020257e-09 9.9999845e-01 3.7803782e-09 5.5052344e-13\n",
      "  5.7065228e-15 2.7968026e-08 3.3485599e-12 5.9428248e-12 4.5884652e-17]\n",
      " [7.9097688e-09 9.9999547e-01 2.7923343e-07 1.3466297e-11 2.1773940e-06\n",
      "  1.5493918e-06 5.1607840e-10 7.0766210e-10 4.7427324e-07 2.2660923e-12]\n",
      " [9.9999952e-01 4.3404331e-17 1.5040059e-11 2.0475930e-11 8.6928763e-11\n",
      "  7.8601734e-12 5.7869780e-09 8.7071747e-12 4.4690369e-11 4.2499522e-07]]\n"
     ]
    }
   ],
   "source": [
    "# Predicting the Output\n",
    "prediction=model.predict(x_test[:4])\n",
    "print(prediction)"
   ]
  },
  {
   "cell_type": "code",
   "execution_count": 11,
   "id": "cdc78aac",
   "metadata": {
    "colab": {
     "base_uri": "https://localhost:8080/"
    },
    "id": "cdc78aac",
    "outputId": "43e175bc-d8bf-4288-a675-da3a83c02853"
   },
   "outputs": [
    {
     "name": "stdout",
     "output_type": "stream",
     "text": [
      "[7 2 1 0]\n",
      "[[0. 0. 0. 0. 0. 0. 0. 1. 0. 0.]\n",
      " [0. 0. 1. 0. 0. 0. 0. 0. 0. 0.]\n",
      " [0. 1. 0. 0. 0. 0. 0. 0. 0. 0.]\n",
      " [1. 0. 0. 0. 0. 0. 0. 0. 0. 0.]]\n"
     ]
    }
   ],
   "source": [
    "import numpy as np\n",
    "print(np.argmax(prediction, axis=1)) #printing our Labels from first 4 images\n",
    "print(y_test[:4]) #printing the actual Labels"
   ]
  },
  {
   "cell_type": "markdown",
   "id": "6141fdb1",
   "metadata": {
    "id": "6141fdb1"
   },
   "source": [
    "# Save The model"
   ]
  },
  {
   "cell_type": "code",
   "execution_count": 12,
   "id": "zUNmPE2OA7zE",
   "metadata": {
    "colab": {
     "base_uri": "https://localhost:8080/"
    },
    "id": "zUNmPE2OA7zE",
    "outputId": "34b772d6-7e32-40d3-97d5-46bdb30559f2"
   },
   "outputs": [
    {
     "name": "stdout",
     "output_type": "stream",
     "text": [
      "Mounted at /content/drive\n"
     ]
    }
   ],
   "source": [
    "from google.colab import drive\n",
    "drive.mount('/content/drive')"
   ]
  },
  {
   "cell_type": "code",
   "execution_count": 14,
   "id": "yFJ2gGeBBT0f",
   "metadata": {
    "colab": {
     "base_uri": "https://localhost:8080/"
    },
    "id": "yFJ2gGeBBT0f",
    "outputId": "d68e072b-d1f3-419b-ede1-d870b26bdb8e"
   },
   "outputs": [
    {
     "name": "stdout",
     "output_type": "stream",
     "text": [
      "/content/drive/MyDrive/Projects\n"
     ]
    }
   ],
   "source": [
    "%cd /content/drive/MyDrive/Projects"
   ]
  },
  {
   "cell_type": "code",
   "execution_count": 15,
   "id": "b70c484c",
   "metadata": {
    "id": "b70c484c"
   },
   "outputs": [],
   "source": [
    "# Save the model\n",
    "model.save('models/mnistCNN.h5')"
   ]
  },
  {
   "cell_type": "markdown",
   "id": "qQy1REQfB569",
   "metadata": {
    "id": "qQy1REQfB569"
   },
   "source": [
    "# Test With Saved Model"
   ]
  },
  {
   "cell_type": "code",
   "execution_count": 31,
   "id": "8acdff0f",
   "metadata": {
    "colab": {
     "base_uri": "https://localhost:8080/"
    },
    "id": "8acdff0f",
    "outputId": "3d5e5bf2-7ea9-4520-8b5f-d15dfe33b24d"
   },
   "outputs": [
    {
     "name": "stdout",
     "output_type": "stream",
     "text": [
      "1/1 [==============================] - 0s 51ms/step\n",
      "[[5.6049165e-09 1.4067458e-05 9.9628639e-01 3.5655799e-03 6.2293903e-10\n",
      "  5.4247762e-06 6.0663690e-05 1.1750326e-07 6.7713328e-05 5.4526826e-13]]\n",
      "1/1 [==============================] - 0s 15ms/step\n",
      "[[2.6514371e-08 9.9987853e-01 2.6678819e-09 5.0345729e-17 1.1578899e-04\n",
      "  3.5318081e-13 1.3091828e-13 5.5813430e-06 1.7989708e-10 2.9838541e-09]]\n",
      "1/1 [==============================] - 0s 17ms/step\n",
      "[[3.7167319e-03 1.4217998e-03 8.2274787e-03 7.9998100e-01 1.1364324e-01\n",
      "  2.0436779e-02 6.3992090e-08 3.5715982e-02 3.3161716e-05 1.6823808e-02]]\n",
      "1/1 [==============================] - 0s 16ms/step\n",
      "[[3.89392152e-02 1.03533266e-05 1.84860080e-01 2.39315932e-03\n",
      "  2.41028378e-04 8.98893850e-05 1.02114845e-02 3.54044059e-05\n",
      "  7.63198674e-01 2.07284338e-05]]\n"
     ]
    }
   ],
   "source": [
    "# Taking images as input and checking results\n",
    "\n",
    "# Importing the keras libraries and packages\n",
    "from tensorflow.keras.models import load_model\n",
    "model = load_model(r'/content/drive/MyDrive/Projects/models/mnistCNN.h5')\n",
    "from PIL import Image #used for manipulating image upload by the user.\n",
    "for index in range(4):\n",
    "    img = Image.open(\"data/\" + str(index) + \".png\").convert('L') # convert image to monochrome\n",
    "    img = img.resize((28,28)) # resizing of input image\n",
    "    im2arr = np.array(img) #convert to image\n",
    "    im2arr = im2arr.reshape(1,28,28,1) #reshaping according to our requirement\n",
    "    #predicting the Test set results\n",
    "    y_pred = model.predict(im2arr)\n",
    "    print(y_pred)"
   ]
  }
 ],
 "metadata": {
  "colab": {
   "provenance": []
  },
  "kernelspec": {
   "display_name": "Python 3 (ipykernel)",
   "language": "python",
   "name": "python3"
  },
  "language_info": {
   "codemirror_mode": {
    "name": "ipython",
    "version": 3
   },
   "file_extension": ".py",
   "mimetype": "text/x-python",
   "name": "python",
   "nbconvert_exporter": "python",
   "pygments_lexer": "ipython3",
   "version": "3.9.13"
  }
 },
 "nbformat": 4,
 "nbformat_minor": 5
}
